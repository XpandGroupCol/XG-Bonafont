{
 "cells": [
  {
   "cell_type": "code",
   "execution_count": 1,
   "metadata": {},
   "outputs": [],
   "source": [
    "# Importar Librerias\n",
    "\n",
    "import os\n",
    "import pandas as pd"
   ]
  },
  {
   "cell_type": "code",
   "execution_count": 2,
   "metadata": {},
   "outputs": [],
   "source": [
    "root = '/Users/salperezate/Documents/GitHub/XG-Bonafont'\n",
    "prod = '/data_productos'\n",
    "trans = '/data_transacciones'\n",
    "output = '/output'"
   ]
  },
  {
   "cell_type": "code",
   "execution_count": 3,
   "metadata": {},
   "outputs": [],
   "source": [
    "files = os.listdir(root+prod)\n",
    "df = pd.DataFrame()\n",
    "for file in files:\n",
    "  df = pd.concat([df, pd.read_csv(root+prod+'/'+file, low_memory=0, sep=',')])\n",
    "\n",
    "df.to_csv(root+output+'/BONAFONT-Productos.csv', index=False)"
   ]
  },
  {
   "cell_type": "code",
   "execution_count": 5,
   "metadata": {},
   "outputs": [],
   "source": [
    "files = os.listdir(root+trans)\n",
    "df = pd.DataFrame()\n",
    "for file in files:\n",
    "  df = pd.concat([df, pd.read_csv(root + trans + '/' + file, low_memory=0, sep=',')])\n",
    "                 \n",
    "df.to_csv(root+output+'/BONAFONT-Transacciones.csv', index=False)"
   ]
  }
 ],
 "metadata": {
  "kernelspec": {
   "display_name": "conda310",
   "language": "python",
   "name": "python3"
  },
  "language_info": {
   "codemirror_mode": {
    "name": "ipython",
    "version": 3
   },
   "file_extension": ".py",
   "mimetype": "text/x-python",
   "name": "python",
   "nbconvert_exporter": "python",
   "pygments_lexer": "ipython3",
   "version": "3.10.9"
  }
 },
 "nbformat": 4,
 "nbformat_minor": 2
}
