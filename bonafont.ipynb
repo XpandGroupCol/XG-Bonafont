{
 "cells": [
  {
   "cell_type": "code",
   "execution_count": null,
   "metadata": {},
   "outputs": [],
   "source": [
    "# Leer csv\n",
    "import pandas as pd"
   ]
  },
  {
   "cell_type": "code",
   "execution_count": null,
   "metadata": {},
   "outputs": [],
   "source": [
    "df = pd.read_csv('data.csv', sep=';')"
   ]
  },
  {
   "cell_type": "code",
   "execution_count": null,
   "metadata": {},
   "outputs": [],
   "source": [
    "# Delete empty columns\n",
    "df = df.dropna(axis=1, how='all')"
   ]
  },
  {
   "cell_type": "code",
   "execution_count": null,
   "metadata": {},
   "outputs": [],
   "source": [
    "# Crear listas para los nuevos datos\n",
    "new_rows = []\n",
    "\n",
    "# Iterar a través de las filas originales\n",
    "for index, row in df.iterrows():\n",
    "    product_names = row['Product Name'].split(', ')\n",
    "    quantities = row['Qty'].split(', ')\n",
    "    \n",
    "    for product_name, qty in zip(product_names, quantities):\n",
    "        new_rows.append({\n",
    "            'ID': row['ID'],\n",
    "            'Purchase Point': row['Purchase Point'],\n",
    "            'Purchase Date': row['Purchase Date'],\n",
    "            'Bill-to Name': row['Bill-to Name'],\n",
    "            'Ship-to Name': row['Ship-to Name'],\n",
    "            'Total': row['Grand Total (Base)'],\n",
    "            #'Grand Total (Purchased)': row['Grand Total (Purchased)'],\n",
    "            'Status': row['Status'],\n",
    "            'Billing Address': row['Billing Address'],\n",
    "            'Shipping Address': row['Shipping Address'],\n",
    "            'Shipping Information': row['Shipping Information'],\n",
    "            'Customer Email': row['Customer Email'],\n",
    "            'Customer Group': row['Customer Group'],\n",
    "            'Subtotal': row['Subtotal'],\n",
    "            'Shipping and Handling': row['Shipping and Handling'],\n",
    "            'Customer Name': row['Customer Name'],\n",
    "            'Payment Method': row['Payment Method'],\n",
    "            #'Allocated sources': row['Allocated sources'],\n",
    "            'Salesforce ID': row['Salesforce ID'],\n",
    "            'Delivery date': row['Delivery date'],\n",
    "            'Colonia No Normalizada': row['Colonia No Normalizada'],\n",
    "            #'# Cliente en SAP': row['# Cliente en SAP'],\n",
    "            #'SKU': row['SKU'],\n",
    "            'Origen del Cliente': row['Origen del Cliente'],\n",
    "            'Telefono': row['Telefono'],\n",
    "            'Cedi': row['Cedi'],\n",
    "            #'archivo': row['archivo'],\n",
    "\n",
    "            'Product Name': product_name,\n",
    "            'Qty': qty,\n",
    "            \n",
    "        })\n",
    "\n",
    "# Crear un nuevo DataFrame con las filas organizadas\n",
    "data = pd.DataFrame(new_rows)"
   ]
  },
  {
   "cell_type": "code",
   "execution_count": null,
   "metadata": {},
   "outputs": [],
   "source": [
    "# Create new column with boolean values comparing \"Billing Address\" and \"Shipping Address\"\n",
    "data[\"same_address\"] = data['Billing Address'] == data['Shipping Address']\n",
    "data[\"same_name\"] = data[\"Bill-to Name\"] == data[\"Ship-to Name\"]\n",
    "#data[\"same_value\"] = data[\"Grand Total (Base)\"] == data[\"Grand Total (Purchased)\"]"
   ]
  },
  {
   "cell_type": "code",
   "execution_count": null,
   "metadata": {},
   "outputs": [],
   "source": [
    "data['Purchase Point'].replace('Bonafont B2C    Bonafont B2C        Bonafont B2C', 'Bonafont B2C', inplace=True)\n",
    "data['Purchase Point'].replace('Danone    Danone        Danone', 'Danone', inplace=True)\n",
    "data['Purchase Point'].replace('Bonafont    Bonafont        Bonafont', 'Bonafont', inplace=True)"
   ]
  }
 ],
 "metadata": {
  "language_info": {
   "name": "python"
  }
 },
 "nbformat": 4,
 "nbformat_minor": 2
}
