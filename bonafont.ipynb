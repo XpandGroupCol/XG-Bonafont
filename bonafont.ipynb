{
 "cells": [
  {
   "cell_type": "code",
   "execution_count": null,
   "metadata": {},
   "outputs": [],
   "source": [
    "#Importar librerias\n",
    "import pandas as pd\n",
    "import datetime as dt"
   ]
  },
  {
   "cell_type": "code",
   "execution_count": null,
   "metadata": {},
   "outputs": [],
   "source": [
    "# Leer el archivo csv\n",
    "df = pd.read_csv('data.csv', sep=',', low_memory=False)"
   ]
  },
  {
   "cell_type": "code",
   "execution_count": null,
   "metadata": {},
   "outputs": [],
   "source": [
    "# Eliminar columnas vacias\n",
    "df = df.dropna(axis=1, how='all')\n",
    "# Eliminar filas duplicadas\n",
    "df = df.drop_duplicates(subset=['ID'])"
   ]
  },
  {
   "cell_type": "code",
   "execution_count": null,
   "metadata": {},
   "outputs": [],
   "source": [
    "# Create new column with boolean values comparing \"Billing Address\" and \"Shipping Address\"\n",
    "df[\"same_address\"] = df['Billing Address'] == df['Shipping Address']\n",
    "df[\"same_name\"] = df[\"Bill-to Name\"] == df[\"Ship-to Name\"]\n",
    "#data[\"same_value\"] = data[\"Grand Total (Base)\"] == data[\"Grand Total (Purchased)\"]"
   ]
  },
  {
   "cell_type": "code",
   "execution_count": null,
   "metadata": {},
   "outputs": [],
   "source": [
    "df['Purchase Point'].replace('Bonafont B2C    Bonafont B2C        Bonafont B2C', 'Bonafont B2C', inplace=True)\n",
    "df['Purchase Point'].replace('Danone    Danone        Danone', 'Danone', inplace=True)\n",
    "df['Purchase Point'].replace('Bonafont    Bonafont        Bonafont', 'Bonafont', inplace=True)"
   ]
  },
  {
   "cell_type": "code",
   "execution_count": null,
   "metadata": {},
   "outputs": [],
   "source": [
    "df[\"Purchase Date\"] = pd.to_datetime(df[\"Purchase Date\"], format=\"mixed\")\n",
    "df[\"Purchase Day\"] = df[\"Purchase Date\"].dt.date\n",
    "df[\"Delivery Days\"] = df[\"Delivery date\"] - df[\"Purchase Day\"]"
   ]
  },
  {
   "cell_type": "markdown",
   "metadata": {},
   "source": [
    "Los datos de Bonafont se encuentran en un archivo csv. Cada fila representa una orden de compra de un cliente. Cada columna representa una característica de la orden de compra. La columna producto, tiene todos los productos de la orden de compra separados por una coma, al igual que la cantidad. Es necesario entonces, dividir cada fila de la base de datos, y crear una fila por cada producto de la orden de compra.\n",
    "\n",
    "Es importante tener en cuenta que para suma de totales de ingresos, se debe tener en cuenta la base de datos original porque el total está por orden de compra y no por producto."
   ]
  },
  {
   "cell_type": "code",
   "execution_count": null,
   "metadata": {},
   "outputs": [],
   "source": [
    "# Crear listas para los nuevos datos\n",
    "new_rows = []\n",
    "\n",
    "# Iterar a través de las filas originales\n",
    "for index, row in df.iterrows():\n",
    "    product_names = row['Product Name'].split(', ')\n",
    "    quantities = row['Qty'].split(', ')\n",
    "    \n",
    "    for product_name, qty in zip(product_names, quantities):\n",
    "        new_rows.append({\n",
    "            'ID': row['ID'],\n",
    "            'Purchase Point': row['Purchase Point'],\n",
    "            'Purchase Date': row['Purchase Date'],\n",
    "            'Bill-to Name': row['Bill-to Name'],\n",
    "            'Ship-to Name': row['Ship-to Name'],\n",
    "            'Total': row['Grand Total (Base)'],\n",
    "            #'Grand Total (Purchased)': row['Grand Total (Purchased)'],\n",
    "            'Status': row['Status'],\n",
    "            'Billing Address': row['Billing Address'],\n",
    "            'Shipping Address': row['Shipping Address'],\n",
    "            'Shipping Information': row['Shipping Information'],\n",
    "            'Customer Email': row['Customer Email'],\n",
    "            'Customer Group': row['Customer Group'],\n",
    "            'Subtotal': row['Subtotal'],\n",
    "            'Shipping and Handling': row['Shipping and Handling'],\n",
    "            'Customer Name': row['Customer Name'],\n",
    "            'Payment Method': row['Payment Method'],\n",
    "            #'Allocated sources': row['Allocated sources'],\n",
    "            'Salesforce ID': row['Salesforce ID'],\n",
    "            'Delivery date': row['Delivery date'],\n",
    "            'Colonia No Normalizada': row['Colonia No Normalizada'],\n",
    "            #'# Cliente en SAP': row['# Cliente en SAP'],\n",
    "            #'SKU': row['SKU'],\n",
    "            'Origen del Cliente': row['Origen del Cliente'],\n",
    "            'Telefono': row['Telefono'],\n",
    "            'Cedi': row['Cedi'],\n",
    "            #'archivo': row['archivo'],\n",
    "\n",
    "            'Product Name': product_name,\n",
    "            'Qty': qty,\n",
    "            \n",
    "        })\n",
    "\n",
    "# Crear un nuevo DataFrame con las filas organizadas\n",
    "por_producto = pd.DataFrame(new_rows)"
   ]
  },
  {
   "cell_type": "code",
   "execution_count": null,
   "metadata": {},
   "outputs": [],
   "source": [
    "# Dejar solo las columnas que necesito:\n",
    "# \"ID\", \"Purchase Date\", \"Subtotal\", \"Customer Name\", \"Payment Method\", \"Origen del cliente\"\n",
    "# \"Product Name\", \"Qty\"\n",
    "\n",
    "por_producto = por_producto[[\"ID\", \"Purchase Date\", \"Subtotal\", \"Customer Name\", \"Payment Method\", \"Origen del Cliente\", \"Product Name\", \"Qty\"]]"
   ]
  }
 ],
 "metadata": {
  "kernelspec": {
   "display_name": "conda310",
   "language": "python",
   "name": "python3"
  },
  "language_info": {
   "name": "python",
   "version": "3.10.9"
  }
 },
 "nbformat": 4,
 "nbformat_minor": 2
}
